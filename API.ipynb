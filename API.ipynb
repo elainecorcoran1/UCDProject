{
 "cells": [
  {
   "cell_type": "markdown",
   "id": "c8d870d0-9693-4dc7-a8cf-952f2c7d5f7a",
   "metadata": {},
   "source": [
    "#### Import"
   ]
  },
  {
   "cell_type": "code",
   "execution_count": 25,
   "id": "c6676296-b9cc-47ad-8faa-5450d9c6115a",
   "metadata": {},
   "outputs": [],
   "source": [
    "import pandas as pd\n",
    "import requests"
   ]
  },
  {
   "cell_type": "markdown",
   "id": "869bdbf8-98a2-489d-83d9-8b996807b12a",
   "metadata": {},
   "source": [
    "#### API request"
   ]
  },
  {
   "cell_type": "code",
   "execution_count": 26,
   "id": "09ddbacf-ac27-4b45-aa48-466aa6496379",
   "metadata": {},
   "outputs": [
    {
     "data": {
      "text/plain": [
       "<Response [200]>"
      ]
     },
     "execution_count": 26,
     "metadata": {},
     "output_type": "execute_result"
    }
   ],
   "source": [
    "requests.get('https://www.gov.uk/bank-holidays.json')"
   ]
  },
  {
   "cell_type": "code",
   "execution_count": 43,
   "id": "75c62f11-97ce-41ba-bdfc-de03dbc3c704",
   "metadata": {},
   "outputs": [],
   "source": [
    "holidays = requests.get('https://www.gov.uk/bank-holidays.json')"
   ]
  },
  {
   "cell_type": "markdown",
   "id": "159d0c62-6a62-4e25-a7cc-cf6b035ff265",
   "metadata": {},
   "source": [
    "#### DataFrame"
   ]
  },
  {
   "cell_type": "code",
   "execution_count": 44,
   "id": "b90b40fa-1349-4171-8627-e73695df64ac",
   "metadata": {},
   "outputs": [],
   "source": [
    "holidays = pd.DataFrame(holidays.json())"
   ]
  },
  {
   "cell_type": "code",
   "execution_count": 45,
   "id": "5c0cdb02-14f7-479c-957c-412e14463288",
   "metadata": {},
   "outputs": [
    {
     "data": {
      "text/html": [
       "<div>\n",
       "<style scoped>\n",
       "    .dataframe tbody tr th:only-of-type {\n",
       "        vertical-align: middle;\n",
       "    }\n",
       "\n",
       "    .dataframe tbody tr th {\n",
       "        vertical-align: top;\n",
       "    }\n",
       "\n",
       "    .dataframe thead th {\n",
       "        text-align: right;\n",
       "    }\n",
       "</style>\n",
       "<table border=\"1\" class=\"dataframe\">\n",
       "  <thead>\n",
       "    <tr style=\"text-align: right;\">\n",
       "      <th></th>\n",
       "      <th>england-and-wales</th>\n",
       "      <th>scotland</th>\n",
       "      <th>northern-ireland</th>\n",
       "    </tr>\n",
       "  </thead>\n",
       "  <tbody>\n",
       "    <tr>\n",
       "      <th>division</th>\n",
       "      <td>england-and-wales</td>\n",
       "      <td>scotland</td>\n",
       "      <td>northern-ireland</td>\n",
       "    </tr>\n",
       "    <tr>\n",
       "      <th>events</th>\n",
       "      <td>[{'title': 'New Year’s Day', 'date': '2016-01-...</td>\n",
       "      <td>[{'title': 'New Year’s Day', 'date': '2016-01-...</td>\n",
       "      <td>[{'title': 'New Year’s Day', 'date': '2016-01-...</td>\n",
       "    </tr>\n",
       "  </tbody>\n",
       "</table>\n",
       "</div>"
      ],
      "text/plain": [
       "                                          england-and-wales  \\\n",
       "division                                  england-and-wales   \n",
       "events    [{'title': 'New Year’s Day', 'date': '2016-01-...   \n",
       "\n",
       "                                                   scotland  \\\n",
       "division                                           scotland   \n",
       "events    [{'title': 'New Year’s Day', 'date': '2016-01-...   \n",
       "\n",
       "                                           northern-ireland  \n",
       "division                                   northern-ireland  \n",
       "events    [{'title': 'New Year’s Day', 'date': '2016-01-...  "
      ]
     },
     "execution_count": 45,
     "metadata": {},
     "output_type": "execute_result"
    }
   ],
   "source": [
    "holidays.head()"
   ]
  },
  {
   "cell_type": "markdown",
   "id": "c37d0701-dc9c-40b9-a2a1-12223a97cfd1",
   "metadata": {},
   "source": [
    "#### Getting the dictionary inside the DataFrame"
   ]
  },
  {
   "cell_type": "code",
   "execution_count": 46,
   "id": "b3847c11-cb02-4eb2-a7ba-51fc5e398dac",
   "metadata": {},
   "outputs": [],
   "source": [
    "holidays_dict = holidays.loc[\"events\"][\"england-and-wales\"]"
   ]
  },
  {
   "cell_type": "code",
   "execution_count": 47,
   "id": "5f07689e-0d80-4ed1-ba82-d38b8afbb7df",
   "metadata": {},
   "outputs": [
    {
     "data": {
      "text/plain": [
       "{'title': 'New Year’s Day', 'date': '2016-01-01', 'notes': '', 'bunting': True}"
      ]
     },
     "execution_count": 47,
     "metadata": {},
     "output_type": "execute_result"
    }
   ],
   "source": [
    "holidays_dict[0]"
   ]
  },
  {
   "cell_type": "markdown",
   "id": "f262bc1c-7e33-4606-b8f0-2bcc8d5e723b",
   "metadata": {},
   "source": [
    "#### DataFrame of England/Wales holidays between 2016 - 2022"
   ]
  },
  {
   "cell_type": "code",
   "execution_count": 37,
   "id": "09faba5b-fc8c-4b5d-b6cd-d18af9de5880",
   "metadata": {},
   "outputs": [],
   "source": [
    "holidays_df = pd.DataFrame(holidays_dict)"
   ]
  },
  {
   "cell_type": "code",
   "execution_count": 49,
   "id": "9a65fb0e-8624-463a-8ca5-b2320306553d",
   "metadata": {},
   "outputs": [
    {
     "data": {
      "text/html": [
       "<div>\n",
       "<style scoped>\n",
       "    .dataframe tbody tr th:only-of-type {\n",
       "        vertical-align: middle;\n",
       "    }\n",
       "\n",
       "    .dataframe tbody tr th {\n",
       "        vertical-align: top;\n",
       "    }\n",
       "\n",
       "    .dataframe thead th {\n",
       "        text-align: right;\n",
       "    }\n",
       "</style>\n",
       "<table border=\"1\" class=\"dataframe\">\n",
       "  <thead>\n",
       "    <tr style=\"text-align: right;\">\n",
       "      <th></th>\n",
       "      <th>title</th>\n",
       "      <th>date</th>\n",
       "      <th>notes</th>\n",
       "      <th>bunting</th>\n",
       "    </tr>\n",
       "  </thead>\n",
       "  <tbody>\n",
       "    <tr>\n",
       "      <th>0</th>\n",
       "      <td>New Year’s Day</td>\n",
       "      <td>2016-01-01</td>\n",
       "      <td></td>\n",
       "      <td>True</td>\n",
       "    </tr>\n",
       "    <tr>\n",
       "      <th>1</th>\n",
       "      <td>Good Friday</td>\n",
       "      <td>2016-03-25</td>\n",
       "      <td></td>\n",
       "      <td>False</td>\n",
       "    </tr>\n",
       "    <tr>\n",
       "      <th>2</th>\n",
       "      <td>Easter Monday</td>\n",
       "      <td>2016-03-28</td>\n",
       "      <td></td>\n",
       "      <td>True</td>\n",
       "    </tr>\n",
       "    <tr>\n",
       "      <th>3</th>\n",
       "      <td>Early May bank holiday</td>\n",
       "      <td>2016-05-02</td>\n",
       "      <td></td>\n",
       "      <td>True</td>\n",
       "    </tr>\n",
       "    <tr>\n",
       "      <th>4</th>\n",
       "      <td>Spring bank holiday</td>\n",
       "      <td>2016-05-30</td>\n",
       "      <td></td>\n",
       "      <td>True</td>\n",
       "    </tr>\n",
       "  </tbody>\n",
       "</table>\n",
       "</div>"
      ],
      "text/plain": [
       "                    title        date notes  bunting\n",
       "0          New Year’s Day  2016-01-01           True\n",
       "1             Good Friday  2016-03-25          False\n",
       "2           Easter Monday  2016-03-28           True\n",
       "3  Early May bank holiday  2016-05-02           True\n",
       "4     Spring bank holiday  2016-05-30           True"
      ]
     },
     "execution_count": 49,
     "metadata": {},
     "output_type": "execute_result"
    }
   ],
   "source": [
    "holidays_df.head()"
   ]
  },
  {
   "cell_type": "markdown",
   "id": "822e4d14-3fcc-450c-8003-53cec112ccc1",
   "metadata": {},
   "source": [
    "##### My hotel bookings dataset contains data between 2015 - 2017 for two hotels in Portugal. Above API only contains holidays between 2016 and 2022 and are also UK holidays. So trying another API that gives more historical data and also relates to Portugal (given that most of the hotel bookings are from Portuguese people)."
   ]
  },
  {
   "cell_type": "code",
   "execution_count": 56,
   "id": "4d5b943c-77d3-4827-94d3-99d2766ac9bc",
   "metadata": {},
   "outputs": [
    {
     "data": {
      "text/plain": [
       "<Response [200]>"
      ]
     },
     "execution_count": 56,
     "metadata": {},
     "output_type": "execute_result"
    }
   ],
   "source": [
    "requests.get('https://date.nager.at/api/v3/publicholidays/2015/PT')"
   ]
  },
  {
   "cell_type": "code",
   "execution_count": 57,
   "id": "5dd328cc-eab8-4e1a-85af-8498d4af2627",
   "metadata": {},
   "outputs": [
    {
     "data": {
      "text/plain": [
       "<Response [200]>"
      ]
     },
     "execution_count": 57,
     "metadata": {},
     "output_type": "execute_result"
    }
   ],
   "source": [
    "requests.get('https://date.nager.at/api/v3/publicholidays/2016/PT')"
   ]
  },
  {
   "cell_type": "code",
   "execution_count": 58,
   "id": "5df0adc7-fff2-401c-b12a-20f7b60c70d6",
   "metadata": {},
   "outputs": [
    {
     "data": {
      "text/plain": [
       "<Response [200]>"
      ]
     },
     "execution_count": 58,
     "metadata": {},
     "output_type": "execute_result"
    }
   ],
   "source": [
    "requests.get('https://date.nager.at/api/v3/publicholidays/2017/PT')"
   ]
  },
  {
   "cell_type": "code",
   "execution_count": 59,
   "id": "987c22da-b5b1-4652-817f-7735f7f8aed0",
   "metadata": {},
   "outputs": [],
   "source": [
    "holidays_portugal_2015 = requests.get('https://date.nager.at/api/v3/publicholidays/2015/PT')"
   ]
  },
  {
   "cell_type": "code",
   "execution_count": 60,
   "id": "e3296a4f-e2cb-461c-a4c0-c5f9b4430ea8",
   "metadata": {},
   "outputs": [],
   "source": [
    "holidays_portugal_2016 = requests.get('https://date.nager.at/api/v3/publicholidays/2016/PT')"
   ]
  },
  {
   "cell_type": "code",
   "execution_count": 61,
   "id": "f561c3d0-b9ca-485f-9c1f-1efce9a79fb8",
   "metadata": {},
   "outputs": [],
   "source": [
    "holidays_portugal_2017 = requests.get('https://date.nager.at/api/v3/publicholidays/2017/PT')"
   ]
  },
  {
   "cell_type": "code",
   "execution_count": 62,
   "id": "935cac27-11d2-46cc-be52-094b06ae5afc",
   "metadata": {},
   "outputs": [],
   "source": [
    "holidays_portugal_2015 = pd.DataFrame(holidays_portugal_2015.json())"
   ]
  },
  {
   "cell_type": "code",
   "execution_count": 63,
   "id": "48f55bad-2ecc-44e3-9498-0644ffc7528f",
   "metadata": {},
   "outputs": [],
   "source": [
    "holidays_portugal_2016 = pd.DataFrame(holidays_portugal_2016.json())"
   ]
  },
  {
   "cell_type": "code",
   "execution_count": 64,
   "id": "61455d20-440d-46ee-8d90-958d8c922df3",
   "metadata": {},
   "outputs": [],
   "source": [
    "holidays_portugal_2017 = pd.DataFrame(holidays_portugal_2017.json())"
   ]
  },
  {
   "cell_type": "code",
   "execution_count": 65,
   "id": "de5c5757-3dfb-4ed2-997e-bd63e56f20f2",
   "metadata": {},
   "outputs": [
    {
     "data": {
      "text/html": [
       "<div>\n",
       "<style scoped>\n",
       "    .dataframe tbody tr th:only-of-type {\n",
       "        vertical-align: middle;\n",
       "    }\n",
       "\n",
       "    .dataframe tbody tr th {\n",
       "        vertical-align: top;\n",
       "    }\n",
       "\n",
       "    .dataframe thead th {\n",
       "        text-align: right;\n",
       "    }\n",
       "</style>\n",
       "<table border=\"1\" class=\"dataframe\">\n",
       "  <thead>\n",
       "    <tr style=\"text-align: right;\">\n",
       "      <th></th>\n",
       "      <th>date</th>\n",
       "      <th>localName</th>\n",
       "      <th>name</th>\n",
       "      <th>countryCode</th>\n",
       "      <th>fixed</th>\n",
       "      <th>global</th>\n",
       "      <th>counties</th>\n",
       "      <th>launchYear</th>\n",
       "      <th>types</th>\n",
       "    </tr>\n",
       "  </thead>\n",
       "  <tbody>\n",
       "    <tr>\n",
       "      <th>0</th>\n",
       "      <td>2015-01-01</td>\n",
       "      <td>Ano Novo</td>\n",
       "      <td>New Year's Day</td>\n",
       "      <td>PT</td>\n",
       "      <td>True</td>\n",
       "      <td>True</td>\n",
       "      <td>None</td>\n",
       "      <td>None</td>\n",
       "      <td>[Public]</td>\n",
       "    </tr>\n",
       "    <tr>\n",
       "      <th>1</th>\n",
       "      <td>2015-02-17</td>\n",
       "      <td>Carnaval</td>\n",
       "      <td>Carnival</td>\n",
       "      <td>PT</td>\n",
       "      <td>False</td>\n",
       "      <td>True</td>\n",
       "      <td>None</td>\n",
       "      <td>None</td>\n",
       "      <td>[Optional]</td>\n",
       "    </tr>\n",
       "    <tr>\n",
       "      <th>2</th>\n",
       "      <td>2015-04-03</td>\n",
       "      <td>Sexta-feira Santa</td>\n",
       "      <td>Good Friday</td>\n",
       "      <td>PT</td>\n",
       "      <td>False</td>\n",
       "      <td>True</td>\n",
       "      <td>None</td>\n",
       "      <td>None</td>\n",
       "      <td>[Public]</td>\n",
       "    </tr>\n",
       "    <tr>\n",
       "      <th>3</th>\n",
       "      <td>2015-04-05</td>\n",
       "      <td>Domingo de Páscoa</td>\n",
       "      <td>Easter Sunday</td>\n",
       "      <td>PT</td>\n",
       "      <td>False</td>\n",
       "      <td>True</td>\n",
       "      <td>None</td>\n",
       "      <td>None</td>\n",
       "      <td>[Public]</td>\n",
       "    </tr>\n",
       "    <tr>\n",
       "      <th>4</th>\n",
       "      <td>2015-04-25</td>\n",
       "      <td>Dia da Liberdade</td>\n",
       "      <td>Freedom Day</td>\n",
       "      <td>PT</td>\n",
       "      <td>True</td>\n",
       "      <td>True</td>\n",
       "      <td>None</td>\n",
       "      <td>None</td>\n",
       "      <td>[Public]</td>\n",
       "    </tr>\n",
       "  </tbody>\n",
       "</table>\n",
       "</div>"
      ],
      "text/plain": [
       "         date          localName            name countryCode  fixed  global  \\\n",
       "0  2015-01-01           Ano Novo  New Year's Day          PT   True    True   \n",
       "1  2015-02-17           Carnaval        Carnival          PT  False    True   \n",
       "2  2015-04-03  Sexta-feira Santa     Good Friday          PT  False    True   \n",
       "3  2015-04-05  Domingo de Páscoa   Easter Sunday          PT  False    True   \n",
       "4  2015-04-25   Dia da Liberdade     Freedom Day          PT   True    True   \n",
       "\n",
       "  counties launchYear       types  \n",
       "0     None       None    [Public]  \n",
       "1     None       None  [Optional]  \n",
       "2     None       None    [Public]  \n",
       "3     None       None    [Public]  \n",
       "4     None       None    [Public]  "
      ]
     },
     "execution_count": 65,
     "metadata": {},
     "output_type": "execute_result"
    }
   ],
   "source": [
    "holidays_portugal_2015.head()"
   ]
  },
  {
   "cell_type": "code",
   "execution_count": 66,
   "id": "9beaa4e5-0bac-49f8-9ea3-3eaefac10035",
   "metadata": {},
   "outputs": [
    {
     "data": {
      "text/html": [
       "<div>\n",
       "<style scoped>\n",
       "    .dataframe tbody tr th:only-of-type {\n",
       "        vertical-align: middle;\n",
       "    }\n",
       "\n",
       "    .dataframe tbody tr th {\n",
       "        vertical-align: top;\n",
       "    }\n",
       "\n",
       "    .dataframe thead th {\n",
       "        text-align: right;\n",
       "    }\n",
       "</style>\n",
       "<table border=\"1\" class=\"dataframe\">\n",
       "  <thead>\n",
       "    <tr style=\"text-align: right;\">\n",
       "      <th></th>\n",
       "      <th>date</th>\n",
       "      <th>localName</th>\n",
       "      <th>name</th>\n",
       "      <th>countryCode</th>\n",
       "      <th>fixed</th>\n",
       "      <th>global</th>\n",
       "      <th>counties</th>\n",
       "      <th>launchYear</th>\n",
       "      <th>types</th>\n",
       "    </tr>\n",
       "  </thead>\n",
       "  <tbody>\n",
       "    <tr>\n",
       "      <th>0</th>\n",
       "      <td>2016-01-01</td>\n",
       "      <td>Ano Novo</td>\n",
       "      <td>New Year's Day</td>\n",
       "      <td>PT</td>\n",
       "      <td>True</td>\n",
       "      <td>True</td>\n",
       "      <td>None</td>\n",
       "      <td>None</td>\n",
       "      <td>[Public]</td>\n",
       "    </tr>\n",
       "    <tr>\n",
       "      <th>1</th>\n",
       "      <td>2016-02-09</td>\n",
       "      <td>Carnaval</td>\n",
       "      <td>Carnival</td>\n",
       "      <td>PT</td>\n",
       "      <td>False</td>\n",
       "      <td>True</td>\n",
       "      <td>None</td>\n",
       "      <td>None</td>\n",
       "      <td>[Optional]</td>\n",
       "    </tr>\n",
       "    <tr>\n",
       "      <th>2</th>\n",
       "      <td>2016-03-25</td>\n",
       "      <td>Sexta-feira Santa</td>\n",
       "      <td>Good Friday</td>\n",
       "      <td>PT</td>\n",
       "      <td>False</td>\n",
       "      <td>True</td>\n",
       "      <td>None</td>\n",
       "      <td>None</td>\n",
       "      <td>[Public]</td>\n",
       "    </tr>\n",
       "    <tr>\n",
       "      <th>3</th>\n",
       "      <td>2016-03-27</td>\n",
       "      <td>Domingo de Páscoa</td>\n",
       "      <td>Easter Sunday</td>\n",
       "      <td>PT</td>\n",
       "      <td>False</td>\n",
       "      <td>True</td>\n",
       "      <td>None</td>\n",
       "      <td>None</td>\n",
       "      <td>[Public]</td>\n",
       "    </tr>\n",
       "    <tr>\n",
       "      <th>4</th>\n",
       "      <td>2016-04-25</td>\n",
       "      <td>Dia da Liberdade</td>\n",
       "      <td>Freedom Day</td>\n",
       "      <td>PT</td>\n",
       "      <td>True</td>\n",
       "      <td>True</td>\n",
       "      <td>None</td>\n",
       "      <td>None</td>\n",
       "      <td>[Public]</td>\n",
       "    </tr>\n",
       "  </tbody>\n",
       "</table>\n",
       "</div>"
      ],
      "text/plain": [
       "         date          localName            name countryCode  fixed  global  \\\n",
       "0  2016-01-01           Ano Novo  New Year's Day          PT   True    True   \n",
       "1  2016-02-09           Carnaval        Carnival          PT  False    True   \n",
       "2  2016-03-25  Sexta-feira Santa     Good Friday          PT  False    True   \n",
       "3  2016-03-27  Domingo de Páscoa   Easter Sunday          PT  False    True   \n",
       "4  2016-04-25   Dia da Liberdade     Freedom Day          PT   True    True   \n",
       "\n",
       "  counties launchYear       types  \n",
       "0     None       None    [Public]  \n",
       "1     None       None  [Optional]  \n",
       "2     None       None    [Public]  \n",
       "3     None       None    [Public]  \n",
       "4     None       None    [Public]  "
      ]
     },
     "execution_count": 66,
     "metadata": {},
     "output_type": "execute_result"
    }
   ],
   "source": [
    "holidays_portugal_2016.head()"
   ]
  },
  {
   "cell_type": "code",
   "execution_count": 83,
   "id": "bb789fa1-2650-46fd-811a-f6d4e5fc174a",
   "metadata": {},
   "outputs": [
    {
     "data": {
      "text/html": [
       "<div>\n",
       "<style scoped>\n",
       "    .dataframe tbody tr th:only-of-type {\n",
       "        vertical-align: middle;\n",
       "    }\n",
       "\n",
       "    .dataframe tbody tr th {\n",
       "        vertical-align: top;\n",
       "    }\n",
       "\n",
       "    .dataframe thead th {\n",
       "        text-align: right;\n",
       "    }\n",
       "</style>\n",
       "<table border=\"1\" class=\"dataframe\">\n",
       "  <thead>\n",
       "    <tr style=\"text-align: right;\">\n",
       "      <th></th>\n",
       "      <th>date</th>\n",
       "      <th>localName</th>\n",
       "      <th>name</th>\n",
       "      <th>countryCode</th>\n",
       "      <th>fixed</th>\n",
       "      <th>global</th>\n",
       "      <th>counties</th>\n",
       "      <th>launchYear</th>\n",
       "      <th>types</th>\n",
       "    </tr>\n",
       "  </thead>\n",
       "  <tbody>\n",
       "    <tr>\n",
       "      <th>0</th>\n",
       "      <td>2017-01-01</td>\n",
       "      <td>Ano Novo</td>\n",
       "      <td>New Year's Day</td>\n",
       "      <td>PT</td>\n",
       "      <td>True</td>\n",
       "      <td>True</td>\n",
       "      <td>None</td>\n",
       "      <td>None</td>\n",
       "      <td>[Public]</td>\n",
       "    </tr>\n",
       "    <tr>\n",
       "      <th>1</th>\n",
       "      <td>2017-02-28</td>\n",
       "      <td>Carnaval</td>\n",
       "      <td>Carnival</td>\n",
       "      <td>PT</td>\n",
       "      <td>False</td>\n",
       "      <td>True</td>\n",
       "      <td>None</td>\n",
       "      <td>None</td>\n",
       "      <td>[Optional]</td>\n",
       "    </tr>\n",
       "    <tr>\n",
       "      <th>2</th>\n",
       "      <td>2017-04-14</td>\n",
       "      <td>Sexta-feira Santa</td>\n",
       "      <td>Good Friday</td>\n",
       "      <td>PT</td>\n",
       "      <td>False</td>\n",
       "      <td>True</td>\n",
       "      <td>None</td>\n",
       "      <td>None</td>\n",
       "      <td>[Public]</td>\n",
       "    </tr>\n",
       "    <tr>\n",
       "      <th>3</th>\n",
       "      <td>2017-04-16</td>\n",
       "      <td>Domingo de Páscoa</td>\n",
       "      <td>Easter Sunday</td>\n",
       "      <td>PT</td>\n",
       "      <td>False</td>\n",
       "      <td>True</td>\n",
       "      <td>None</td>\n",
       "      <td>None</td>\n",
       "      <td>[Public]</td>\n",
       "    </tr>\n",
       "    <tr>\n",
       "      <th>4</th>\n",
       "      <td>2017-04-25</td>\n",
       "      <td>Dia da Liberdade</td>\n",
       "      <td>Freedom Day</td>\n",
       "      <td>PT</td>\n",
       "      <td>True</td>\n",
       "      <td>True</td>\n",
       "      <td>None</td>\n",
       "      <td>None</td>\n",
       "      <td>[Public]</td>\n",
       "    </tr>\n",
       "  </tbody>\n",
       "</table>\n",
       "</div>"
      ],
      "text/plain": [
       "         date          localName            name countryCode  fixed  global  \\\n",
       "0  2017-01-01           Ano Novo  New Year's Day          PT   True    True   \n",
       "1  2017-02-28           Carnaval        Carnival          PT  False    True   \n",
       "2  2017-04-14  Sexta-feira Santa     Good Friday          PT  False    True   \n",
       "3  2017-04-16  Domingo de Páscoa   Easter Sunday          PT  False    True   \n",
       "4  2017-04-25   Dia da Liberdade     Freedom Day          PT   True    True   \n",
       "\n",
       "  counties launchYear       types  \n",
       "0     None       None    [Public]  \n",
       "1     None       None  [Optional]  \n",
       "2     None       None    [Public]  \n",
       "3     None       None    [Public]  \n",
       "4     None       None    [Public]  "
      ]
     },
     "execution_count": 83,
     "metadata": {},
     "output_type": "execute_result"
    }
   ],
   "source": [
    "holidays_portugal_2017.head()"
   ]
  },
  {
   "cell_type": "markdown",
   "id": "949384f4-9d6c-422e-b678-f4f51872e0fb",
   "metadata": {},
   "source": [
    "#### Concatenate 2015, 2016, 2017 holiday data"
   ]
  },
  {
   "cell_type": "code",
   "execution_count": 86,
   "id": "1565defc-5473-4c24-a5dd-58d30b420d1e",
   "metadata": {},
   "outputs": [],
   "source": [
    "holidays_portugal = pd.concat([holidays_portugal_2015, holidays_portugal_2016, holidays_portugal_2017], ignore_index = True)"
   ]
  },
  {
   "cell_type": "markdown",
   "id": "b0de151d-b1bc-4e2d-9dec-84c6e32736a6",
   "metadata": {},
   "source": [
    "#### Dropping columns"
   ]
  },
  {
   "cell_type": "code",
   "execution_count": 87,
   "id": "ba4e95dc-9406-4950-9d1c-b8a1b96f71bc",
   "metadata": {},
   "outputs": [],
   "source": [
    "holidays_portugal = holidays_portugal.drop(['localName', 'countryCode', 'fixed', 'global', 'counties', 'launchYear', 'types'], axis = 1)"
   ]
  },
  {
   "cell_type": "code",
   "execution_count": 88,
   "id": "d3960011-aefd-4d43-9a38-eecb2fdc28fd",
   "metadata": {},
   "outputs": [
    {
     "data": {
      "text/html": [
       "<div>\n",
       "<style scoped>\n",
       "    .dataframe tbody tr th:only-of-type {\n",
       "        vertical-align: middle;\n",
       "    }\n",
       "\n",
       "    .dataframe tbody tr th {\n",
       "        vertical-align: top;\n",
       "    }\n",
       "\n",
       "    .dataframe thead th {\n",
       "        text-align: right;\n",
       "    }\n",
       "</style>\n",
       "<table border=\"1\" class=\"dataframe\">\n",
       "  <thead>\n",
       "    <tr style=\"text-align: right;\">\n",
       "      <th></th>\n",
       "      <th>date</th>\n",
       "      <th>name</th>\n",
       "    </tr>\n",
       "  </thead>\n",
       "  <tbody>\n",
       "    <tr>\n",
       "      <th>0</th>\n",
       "      <td>2015-01-01</td>\n",
       "      <td>New Year's Day</td>\n",
       "    </tr>\n",
       "    <tr>\n",
       "      <th>1</th>\n",
       "      <td>2015-02-17</td>\n",
       "      <td>Carnival</td>\n",
       "    </tr>\n",
       "    <tr>\n",
       "      <th>2</th>\n",
       "      <td>2015-04-03</td>\n",
       "      <td>Good Friday</td>\n",
       "    </tr>\n",
       "    <tr>\n",
       "      <th>3</th>\n",
       "      <td>2015-04-05</td>\n",
       "      <td>Easter Sunday</td>\n",
       "    </tr>\n",
       "    <tr>\n",
       "      <th>4</th>\n",
       "      <td>2015-04-25</td>\n",
       "      <td>Freedom Day</td>\n",
       "    </tr>\n",
       "    <tr>\n",
       "      <th>5</th>\n",
       "      <td>2015-05-01</td>\n",
       "      <td>Labour Day</td>\n",
       "    </tr>\n",
       "    <tr>\n",
       "      <th>6</th>\n",
       "      <td>2015-06-01</td>\n",
       "      <td>Azores Day</td>\n",
       "    </tr>\n",
       "    <tr>\n",
       "      <th>7</th>\n",
       "      <td>2015-06-04</td>\n",
       "      <td>Corpus Christi</td>\n",
       "    </tr>\n",
       "    <tr>\n",
       "      <th>8</th>\n",
       "      <td>2015-06-10</td>\n",
       "      <td>National Day</td>\n",
       "    </tr>\n",
       "    <tr>\n",
       "      <th>9</th>\n",
       "      <td>2015-07-01</td>\n",
       "      <td>Madeira Day</td>\n",
       "    </tr>\n",
       "    <tr>\n",
       "      <th>10</th>\n",
       "      <td>2015-08-15</td>\n",
       "      <td>Assumption Day</td>\n",
       "    </tr>\n",
       "    <tr>\n",
       "      <th>11</th>\n",
       "      <td>2015-10-05</td>\n",
       "      <td>Republic Day</td>\n",
       "    </tr>\n",
       "    <tr>\n",
       "      <th>12</th>\n",
       "      <td>2015-11-01</td>\n",
       "      <td>All Saints Day</td>\n",
       "    </tr>\n",
       "    <tr>\n",
       "      <th>13</th>\n",
       "      <td>2015-12-01</td>\n",
       "      <td>Restoration of Independence</td>\n",
       "    </tr>\n",
       "    <tr>\n",
       "      <th>14</th>\n",
       "      <td>2015-12-08</td>\n",
       "      <td>Immaculate Conception</td>\n",
       "    </tr>\n",
       "  </tbody>\n",
       "</table>\n",
       "</div>"
      ],
      "text/plain": [
       "          date                         name\n",
       "0   2015-01-01               New Year's Day\n",
       "1   2015-02-17                     Carnival\n",
       "2   2015-04-03                  Good Friday\n",
       "3   2015-04-05                Easter Sunday\n",
       "4   2015-04-25                  Freedom Day\n",
       "5   2015-05-01                   Labour Day\n",
       "6   2015-06-01                   Azores Day\n",
       "7   2015-06-04               Corpus Christi\n",
       "8   2015-06-10                 National Day\n",
       "9   2015-07-01                  Madeira Day\n",
       "10  2015-08-15               Assumption Day\n",
       "11  2015-10-05                 Republic Day\n",
       "12  2015-11-01               All Saints Day\n",
       "13  2015-12-01  Restoration of Independence\n",
       "14  2015-12-08        Immaculate Conception"
      ]
     },
     "execution_count": 88,
     "metadata": {},
     "output_type": "execute_result"
    }
   ],
   "source": [
    "holidays_portugal.head(15)"
   ]
  },
  {
   "cell_type": "code",
   "execution_count": null,
   "id": "b58fd501-3cb6-4ec9-814a-0eeb9d951bfd",
   "metadata": {},
   "outputs": [],
   "source": []
  }
 ],
 "metadata": {
  "kernelspec": {
   "display_name": "Python 3",
   "language": "python",
   "name": "python3"
  },
  "language_info": {
   "codemirror_mode": {
    "name": "ipython",
    "version": 3
   },
   "file_extension": ".py",
   "mimetype": "text/x-python",
   "name": "python",
   "nbconvert_exporter": "python",
   "pygments_lexer": "ipython3",
   "version": "3.8.8"
  }
 },
 "nbformat": 4,
 "nbformat_minor": 5
}
